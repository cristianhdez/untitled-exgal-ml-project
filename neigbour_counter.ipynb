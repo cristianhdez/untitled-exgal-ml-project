{
 "cells": [
  {
   "cell_type": "code",
   "execution_count": 5,
   "metadata": {},
   "outputs": [
    {
     "name": "stderr",
     "output_type": "stream",
     "text": [
      "Using TensorFlow backend.\n"
     ]
    }
   ],
   "source": [
    "from pandas import read_csv\n",
    "import numpy as np\n",
    "import matplotlib.pyplot as plt\n",
    "from scipy.spatial import KDTree\n",
    "\n",
    "from modules import datasets\n",
    "from modules import models\n"
   ]
  },
  {
   "cell_type": "code",
   "execution_count": 7,
   "metadata": {},
   "outputs": [],
   "source": [
    "db=datasets.load_halo_attributes('../all_sag_10e11.csv')"
   ]
  },
  {
   "cell_type": "code",
   "execution_count": 8,
   "metadata": {},
   "outputs": [],
   "source": [
    "zmin=100\n",
    "zmax=200\n",
    "pos = db[['x','y','z']]\n",
    "\n",
    "r = 50\n",
    "points = np.array(pos)"
   ]
  },
  {
   "cell_type": "code",
   "execution_count": 9,
   "metadata": {},
   "outputs": [],
   "source": [
    "neighbours = []\n",
    "point_neighs = KDTree(points)\n",
    "\n",
    "for point in points:\n",
    "    n = point_neighs.query_ball_point(point,r)\n",
    "    neighbours.append(len(n))"
   ]
  },
  {
   "cell_type": "code",
   "execution_count": 10,
   "metadata": {},
   "outputs": [
    {
     "name": "stdout",
     "output_type": "stream",
     "text": [
      "       row_id   rockstarId      HaloMass     Vmax    Vpeak  concentration_NFW  \\\n",
      "0           1  12615510884  1.161700e+15  1726.10  1726.10            2.06754   \n",
      "1           2  12469517307  1.191500e+15  1750.17  1750.17            1.94253   \n",
      "2           3  12656411108  1.755200e+15  2035.04  2035.04            4.22519   \n",
      "3           4  12511080562  1.737300e+15  2046.60  2046.60            4.19678   \n",
      "4           5  12568957065  2.243600e+15  2230.55  2230.55            4.71076   \n",
      "...       ...          ...           ...      ...      ...                ...   \n",
      "28934   28935  11488565774  2.022400e+14  1070.04  1070.04            5.42509   \n",
      "28935   28936  11854702589  4.955400e+14  1324.05  1324.05            3.34574   \n",
      "28936   28937  10028120220  1.928100e+14  1101.67  1101.67            5.44146   \n",
      "28937   28938   9466709502  2.468600e+14  1143.49  1143.49            3.06348   \n",
      "28938   28939  12597026568  1.938600e+14   995.95   995.95            5.19361   \n",
      "\n",
      "       MstarSpheroid   MstarDisk         x         y        z  Neigbours_r50  \n",
      "0      4817270000000           0  374.9020   54.9860  632.304             32  \n",
      "1      4802720000000           0  374.8780   54.9486  632.450             32  \n",
      "2      4778900000000  5478580000  606.7890  487.3820  619.774            134  \n",
      "3      4746160000000  5478580000  606.7930  487.3020  619.820            134  \n",
      "4      4488630000000           0    6.2965   61.2847  512.033             62  \n",
      "...              ...         ...       ...       ...      ...            ...  \n",
      "28934  1000080000000           0  872.5750  710.8320  308.342             12  \n",
      "28935  1000050000000           0  213.8330  686.7510  139.438              6  \n",
      "28936  1000030000000           0  602.5890  699.1610  689.349             17  \n",
      "28937  1000020000000           0  156.1080  657.7520  948.737             58  \n",
      "28938  1000010000000           0  211.9720   45.8937  844.960             27  \n",
      "\n",
      "[28939 rows x 12 columns]\n"
     ]
    }
   ],
   "source": [
    "db['Neigbours_r%d'%r] = np.array(neighbours)\n",
    "print(db)"
   ]
  },
  {
   "cell_type": "code",
   "execution_count": 13,
   "metadata": {},
   "outputs": [],
   "source": [
    "db = db[db.z > r]\n",
    "db = db[db.z < 1000 - r]\n",
    "\n",
    "db = db[db.x > r]\n",
    "db = db[db.x < 1000 - r]\n",
    "\n",
    "db = db[db.y > r]\n",
    "db = db[db.y < 1000 - r]\n",
    "\n",
    "db.to_csv('../neigbours_counted_r%d.csv'%r, index = False)"
   ]
  }
 ],
 "metadata": {
  "kernelspec": {
   "display_name": "Python 3",
   "language": "python",
   "name": "python3"
  },
  "language_info": {
   "codemirror_mode": {
    "name": "ipython",
    "version": 3
   },
   "file_extension": ".py",
   "mimetype": "text/x-python",
   "name": "python",
   "nbconvert_exporter": "python",
   "pygments_lexer": "ipython3",
   "version": "3.7.6"
  }
 },
 "nbformat": 4,
 "nbformat_minor": 4
}
